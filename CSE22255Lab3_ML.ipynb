{
 "cells": [
  {
   "cell_type": "code",
   "execution_count": 40,
   "id": "ec60fff8",
   "metadata": {},
   "outputs": [
    {
     "data": {
      "text/html": [
       "<div>\n",
       "<style scoped>\n",
       "    .dataframe tbody tr th:only-of-type {\n",
       "        vertical-align: middle;\n",
       "    }\n",
       "\n",
       "    .dataframe tbody tr th {\n",
       "        vertical-align: top;\n",
       "    }\n",
       "\n",
       "    .dataframe thead th {\n",
       "        text-align: right;\n",
       "    }\n",
       "</style>\n",
       "<table border=\"1\" class=\"dataframe\">\n",
       "  <thead>\n",
       "    <tr style=\"text-align: right;\">\n",
       "      <th></th>\n",
       "      <th>0</th>\n",
       "    </tr>\n",
       "  </thead>\n",
       "  <tbody>\n",
       "    <tr>\n",
       "      <th>0</th>\n",
       "      <td>1.0</td>\n",
       "    </tr>\n",
       "    <tr>\n",
       "      <th>1</th>\n",
       "      <td>55.0</td>\n",
       "    </tr>\n",
       "    <tr>\n",
       "      <th>2</th>\n",
       "      <td>18.0</td>\n",
       "    </tr>\n",
       "  </tbody>\n",
       "</table>\n",
       "</div>"
      ],
      "text/plain": [
       "      0\n",
       "0   1.0\n",
       "1  55.0\n",
       "2  18.0"
      ]
     },
     "execution_count": 40,
     "metadata": {},
     "output_type": "execute_result"
    }
   ],
   "source": [
    "import pandas as pd\n",
    "import numpy as np\n",
    "require_cols = [4]\n",
    "paydf = pd.read_excel('Lab Session Data.xlsx', usecols = require_cols, sheet_name = 'Purchase data')\n",
    "cols = [1,2,3]\n",
    "coldf = pd.read_excel('Lab Session Data.xlsx', usecols = cols, sheet_name = 'Purchase data')\n",
    "cinv = np.linalg.pinv(coldf)\n",
    "price = np.dot(cinv,paydf)\n",
    "pd.DataFrame(price).head()"
   ]
  },
  {
   "cell_type": "code",
   "execution_count": 41,
   "id": "ae52f73c",
   "metadata": {},
   "outputs": [
    {
     "data": {
      "text/html": [
       "<div>\n",
       "<style scoped>\n",
       "    .dataframe tbody tr th:only-of-type {\n",
       "        vertical-align: middle;\n",
       "    }\n",
       "\n",
       "    .dataframe tbody tr th {\n",
       "        vertical-align: top;\n",
       "    }\n",
       "\n",
       "    .dataframe thead th {\n",
       "        text-align: right;\n",
       "    }\n",
       "</style>\n",
       "<table border=\"1\" class=\"dataframe\">\n",
       "  <thead>\n",
       "    <tr style=\"text-align: right;\">\n",
       "      <th></th>\n",
       "      <th>0</th>\n",
       "      <th>1</th>\n",
       "      <th>2</th>\n",
       "    </tr>\n",
       "  </thead>\n",
       "  <tbody>\n",
       "    <tr>\n",
       "      <th>0</th>\n",
       "      <td>20.0</td>\n",
       "      <td>6.0</td>\n",
       "      <td>2.0</td>\n",
       "    </tr>\n",
       "    <tr>\n",
       "      <th>1</th>\n",
       "      <td>16.0</td>\n",
       "      <td>3.0</td>\n",
       "      <td>6.0</td>\n",
       "    </tr>\n",
       "    <tr>\n",
       "      <th>2</th>\n",
       "      <td>27.0</td>\n",
       "      <td>6.0</td>\n",
       "      <td>2.0</td>\n",
       "    </tr>\n",
       "    <tr>\n",
       "      <th>3</th>\n",
       "      <td>19.0</td>\n",
       "      <td>1.0</td>\n",
       "      <td>2.0</td>\n",
       "    </tr>\n",
       "    <tr>\n",
       "      <th>4</th>\n",
       "      <td>24.0</td>\n",
       "      <td>4.0</td>\n",
       "      <td>2.0</td>\n",
       "    </tr>\n",
       "  </tbody>\n",
       "</table>\n",
       "</div>"
      ],
      "text/plain": [
       "      0    1    2\n",
       "0  20.0  6.0  2.0\n",
       "1  16.0  3.0  6.0\n",
       "2  27.0  6.0  2.0\n",
       "3  19.0  1.0  2.0\n",
       "4  24.0  4.0  2.0"
      ]
     },
     "execution_count": 41,
     "metadata": {},
     "output_type": "execute_result"
    }
   ],
   "source": [
    "X = np.linalg.pinv(cinv)\n",
    "pd.DataFrame(X).head()"
   ]
  },
  {
   "cell_type": "code",
   "execution_count": 42,
   "id": "81e6230c",
   "metadata": {},
   "outputs": [
    {
     "data": {
      "text/html": [
       "<div>\n",
       "<style scoped>\n",
       "    .dataframe tbody tr th:only-of-type {\n",
       "        vertical-align: middle;\n",
       "    }\n",
       "\n",
       "    .dataframe tbody tr th {\n",
       "        vertical-align: top;\n",
       "    }\n",
       "\n",
       "    .dataframe thead th {\n",
       "        text-align: right;\n",
       "    }\n",
       "</style>\n",
       "<table border=\"1\" class=\"dataframe\">\n",
       "  <thead>\n",
       "    <tr style=\"text-align: right;\">\n",
       "      <th></th>\n",
       "      <th>Payment (Rs)</th>\n",
       "      <th>Label</th>\n",
       "    </tr>\n",
       "  </thead>\n",
       "  <tbody>\n",
       "    <tr>\n",
       "      <th>0</th>\n",
       "      <td>386</td>\n",
       "      <td>RICH</td>\n",
       "    </tr>\n",
       "    <tr>\n",
       "      <th>1</th>\n",
       "      <td>289</td>\n",
       "      <td>RICH</td>\n",
       "    </tr>\n",
       "    <tr>\n",
       "      <th>2</th>\n",
       "      <td>393</td>\n",
       "      <td>RICH</td>\n",
       "    </tr>\n",
       "    <tr>\n",
       "      <th>3</th>\n",
       "      <td>110</td>\n",
       "      <td>POOR</td>\n",
       "    </tr>\n",
       "    <tr>\n",
       "      <th>4</th>\n",
       "      <td>280</td>\n",
       "      <td>RICH</td>\n",
       "    </tr>\n",
       "    <tr>\n",
       "      <th>5</th>\n",
       "      <td>167</td>\n",
       "      <td>POOR</td>\n",
       "    </tr>\n",
       "    <tr>\n",
       "      <th>6</th>\n",
       "      <td>271</td>\n",
       "      <td>RICH</td>\n",
       "    </tr>\n",
       "    <tr>\n",
       "      <th>7</th>\n",
       "      <td>274</td>\n",
       "      <td>RICH</td>\n",
       "    </tr>\n",
       "    <tr>\n",
       "      <th>8</th>\n",
       "      <td>148</td>\n",
       "      <td>POOR</td>\n",
       "    </tr>\n",
       "    <tr>\n",
       "      <th>9</th>\n",
       "      <td>198</td>\n",
       "      <td>POOR</td>\n",
       "    </tr>\n",
       "  </tbody>\n",
       "</table>\n",
       "</div>"
      ],
      "text/plain": [
       "   Payment (Rs) Label\n",
       "0           386  RICH\n",
       "1           289  RICH\n",
       "2           393  RICH\n",
       "3           110  POOR\n",
       "4           280  RICH\n",
       "5           167  POOR\n",
       "6           271  RICH\n",
       "7           274  RICH\n",
       "8           148  POOR\n",
       "9           198  POOR"
      ]
     },
     "execution_count": 42,
     "metadata": {},
     "output_type": "execute_result"
    }
   ],
   "source": [
    "paydf['Label'] = paydf['Payment (Rs)'].apply(lambda x: 'RICH' if x > 200 else 'POOR')\n",
    "paydf.head(10)"
   ]
  },
  {
   "cell_type": "code",
   "execution_count": 43,
   "id": "04036146",
   "metadata": {
    "scrolled": true
   },
   "outputs": [
    {
     "data": {
      "text/html": [
       "<div>\n",
       "<style scoped>\n",
       "    .dataframe tbody tr th:only-of-type {\n",
       "        vertical-align: middle;\n",
       "    }\n",
       "\n",
       "    .dataframe tbody tr th {\n",
       "        vertical-align: top;\n",
       "    }\n",
       "\n",
       "    .dataframe thead th {\n",
       "        text-align: right;\n",
       "    }\n",
       "</style>\n",
       "<table border=\"1\" class=\"dataframe\">\n",
       "  <thead>\n",
       "    <tr style=\"text-align: right;\">\n",
       "      <th></th>\n",
       "      <th>Candies (#)</th>\n",
       "      <th>Mangoes (Kg)</th>\n",
       "      <th>Milk Packets (#)</th>\n",
       "      <th>Label</th>\n",
       "    </tr>\n",
       "  </thead>\n",
       "  <tbody>\n",
       "    <tr>\n",
       "      <th>0</th>\n",
       "      <td>20</td>\n",
       "      <td>6</td>\n",
       "      <td>2</td>\n",
       "      <td>RICH</td>\n",
       "    </tr>\n",
       "    <tr>\n",
       "      <th>1</th>\n",
       "      <td>16</td>\n",
       "      <td>3</td>\n",
       "      <td>6</td>\n",
       "      <td>RICH</td>\n",
       "    </tr>\n",
       "    <tr>\n",
       "      <th>2</th>\n",
       "      <td>27</td>\n",
       "      <td>6</td>\n",
       "      <td>2</td>\n",
       "      <td>RICH</td>\n",
       "    </tr>\n",
       "    <tr>\n",
       "      <th>3</th>\n",
       "      <td>19</td>\n",
       "      <td>1</td>\n",
       "      <td>2</td>\n",
       "      <td>POOR</td>\n",
       "    </tr>\n",
       "    <tr>\n",
       "      <th>4</th>\n",
       "      <td>24</td>\n",
       "      <td>4</td>\n",
       "      <td>2</td>\n",
       "      <td>RICH</td>\n",
       "    </tr>\n",
       "    <tr>\n",
       "      <th>5</th>\n",
       "      <td>22</td>\n",
       "      <td>1</td>\n",
       "      <td>5</td>\n",
       "      <td>POOR</td>\n",
       "    </tr>\n",
       "    <tr>\n",
       "      <th>6</th>\n",
       "      <td>15</td>\n",
       "      <td>4</td>\n",
       "      <td>2</td>\n",
       "      <td>RICH</td>\n",
       "    </tr>\n",
       "    <tr>\n",
       "      <th>7</th>\n",
       "      <td>18</td>\n",
       "      <td>4</td>\n",
       "      <td>2</td>\n",
       "      <td>RICH</td>\n",
       "    </tr>\n",
       "    <tr>\n",
       "      <th>8</th>\n",
       "      <td>21</td>\n",
       "      <td>1</td>\n",
       "      <td>4</td>\n",
       "      <td>POOR</td>\n",
       "    </tr>\n",
       "    <tr>\n",
       "      <th>9</th>\n",
       "      <td>16</td>\n",
       "      <td>2</td>\n",
       "      <td>4</td>\n",
       "      <td>POOR</td>\n",
       "    </tr>\n",
       "  </tbody>\n",
       "</table>\n",
       "</div>"
      ],
      "text/plain": [
       "   Candies (#)  Mangoes (Kg)  Milk Packets (#) Label\n",
       "0           20             6                 2  RICH\n",
       "1           16             3                 6  RICH\n",
       "2           27             6                 2  RICH\n",
       "3           19             1                 2  POOR\n",
       "4           24             4                 2  RICH\n",
       "5           22             1                 5  POOR\n",
       "6           15             4                 2  RICH\n",
       "7           18             4                 2  RICH\n",
       "8           21             1                 4  POOR\n",
       "9           16             2                 4  POOR"
      ]
     },
     "execution_count": 43,
     "metadata": {},
     "output_type": "execute_result"
    }
   ],
   "source": [
    "data = pd.concat([coldf, paydf['Label']], axis=1)\n",
    "data.columns = ['Candies (#)', 'Mangoes (Kg)', 'Milk Packets (#)', 'Label']\n",
    "pd.DataFrame(data).head(10)"
   ]
  },
  {
   "cell_type": "code",
   "execution_count": 44,
   "id": "4bcd5ff2",
   "metadata": {},
   "outputs": [
    {
     "name": "stdout",
     "output_type": "stream",
     "text": [
      "1560.663453815261\n",
      "58732.365352539186\n"
     ]
    }
   ],
   "source": [
    "import statistics\n",
    "irctc = pd.read_excel('Lab Session Data.xlsx', usecols = [1,2,3,4,5,6,7,8], sheet_name = \"IRCTC Stock Price\")\n",
    "print(statistics.mean(irctc['Price']))\n",
    "print(statistics.variance(irctc['Price']))"
   ]
  },
  {
   "cell_type": "code",
   "execution_count": 45,
   "id": "c0b34869",
   "metadata": {},
   "outputs": [
    {
     "name": "stdout",
     "output_type": "stream",
     "text": [
      "1550.706\n",
      "1560.663453815261\n",
      "9.957453815261033\n"
     ]
    }
   ],
   "source": [
    "wednesdays = irctc[irctc['Day'] == 'Wed']\n",
    "sample_mean = statistics.mean(wednesdays['Price'])\n",
    "population_mean = statistics.mean(irctc['Price'])\n",
    "\n",
    "print(sample_mean)\n",
    "print(population_mean)\n",
    "\n",
    "print(population_mean - sample_mean)\n",
    "#Population mean is greater, so it means that the prices on Wednesdays are generally lesser than average."
   ]
  },
  {
   "cell_type": "code",
   "execution_count": 46,
   "id": "9f57cb2e",
   "metadata": {},
   "outputs": [
    {
     "name": "stdout",
     "output_type": "stream",
     "text": [
      "-138.28917776368644\n"
     ]
    }
   ],
   "source": [
    "april = irctc[irctc['Month'] == 'Apr']\n",
    "s_mean = statistics.mean(april['Price'])\n",
    "\n",
    "print(population_mean - s_mean)\n",
    "#In April, the prices were generally above average. "
   ]
  },
  {
   "cell_type": "code",
   "execution_count": 47,
   "id": "f50612d0",
   "metadata": {},
   "outputs": [
    {
     "name": "stdout",
     "output_type": "stream",
     "text": [
      "0.4979919678714859\n"
     ]
    }
   ],
   "source": [
    "count = (irctc['Chg%'] < 0).sum()\n",
    "loss_prob = count/len(irctc)\n",
    "print(loss_prob)"
   ]
  },
  {
   "cell_type": "code",
   "execution_count": 55,
   "id": "235e8c5a",
   "metadata": {},
   "outputs": [
    {
     "name": "stdout",
     "output_type": "stream",
     "text": [
      "0.42\n"
     ]
    }
   ],
   "source": [
    "prof_prob = 1 - loss_prob\n",
    "wedprof = (irctc['Day'] == 'Wed') & (irctc['Chg%'] > 0)\n",
    "wedprof_prob = wedprof.sum()/len(wednesdays)\n",
    "print(wedprof_prob)"
   ]
  },
  {
   "cell_type": "code",
   "execution_count": 62,
   "id": "4bd396ee",
   "metadata": {},
   "outputs": [
    {
     "name": "stdout",
     "output_type": "stream",
     "text": [
      "0.42\n"
     ]
    }
   ],
   "source": [
    "wed = len(irctc['Day']=='Wed')/len(irctc['Day'])\n",
    "cond_prob = wedprof_prob*wed\n",
    "print(cond_prob)"
   ]
  },
  {
   "cell_type": "code",
   "execution_count": 65,
   "id": "f47662e5",
   "metadata": {},
   "outputs": [
    {
     "data": {
      "image/png": "[encoded data removed]",
      "text/plain": [
       "<Figure size 1000x600 with 1 Axes>"
      ]
     },
     "metadata": {},
     "output_type": "display_data"
    }
   ],
   "source": [
    "import matplotlib.pyplot as plt\n",
    "\n",
    "days_order = ['Mon', 'Tue', 'Wed', 'Thu', 'Fri', 'Sat', 'Sun']\n",
    "irctc['Day'] = pd.Categorical(irctc['Day'], categories=days_order, ordered=True)\n",
    "plt.figure(figsize=(10, 6))\n",
    "plt.scatter(irctc['Day'], irctc['Chg%'], color='blue', s=100, alpha=0.7)\n",
    "plt.xlabel('Day of the Week')\n",
    "plt.ylabel('Percentage Change (Chg%)')\n",
    "plt.title('Scatter Plot of Percentage Change by Day of the Week')\n",
    "plt.grid(True)\n",
    "plt.show()"
   ]
  },
  {
   "cell_type": "code",
   "execution_count": 81,
   "id": "7f2b2bf3",
   "metadata": {},
   "outputs": [
    {
     "name": "stdout",
     "output_type": "stream",
     "text": [
      "Record ID Average:  852947346.6122983\n",
      "Record ID Variance:  57479983005406.1\n",
      "Age Average:  73.55582206716092\n",
      "Age Variance:  1401648.0340622675\n",
      "TSH Average:  5.218402753781513\n",
      "TSH Variance:  584.866153209295\n",
      "T3 Average:  1.9706288057247257\n",
      "T3 Variance:  0.7877961683561565\n",
      "TT4 Average:  108.70030469644902\n",
      "TT4 Variance:  1407.950791475491\n",
      "T4U Average:  0.9760557216309935\n",
      "T4U Variance:  0.04014430639006391\n",
      "FTI Average:  113.64074551935484\n",
      "FTI Variance:  1726.539585061158\n",
      "TBG Average:  29.87005729512894\n",
      "TBG Variance:  444.38764299946627\n"
     ]
    }
   ],
   "source": [
    "import pandas as pd\n",
    "import numpy as np\n",
    "\n",
    "thyroid = pd.read_excel('Lab Session Data.xlsx', sheet_name = 'thyroid0387_UCI')\n",
    "ID_avg = np.average(thyroid['Record ID'])\n",
    "ID_var = np.var(thyroid['Record ID'])\n",
    "print(\"Record ID Average: \", ID_avg)\n",
    "print(\"Record ID Variance: \", ID_var)\n",
    "\n",
    "age_avg = np.average(thyroid['age'])\n",
    "age_var = np.var(thyroid['age'])\n",
    "print(\"Age Average: \", age_avg)\n",
    "print(\"Age Variance: \", age_var)\n",
    "\n",
    "thyroid['TSH'] = pd.to_numeric(thyroid['TSH'], errors = 'coerce')\n",
    "tsh_avg = thyroid['TSH'].dropna().mean()\n",
    "tsh_var = thyroid['TSH'].dropna().var()\n",
    "print(\"TSH Average: \", tsh_avg)\n",
    "print(\"TSH Variance: \", tsh_var)\n",
    "\n",
    "thyroid['T3'] = pd.to_numeric(thyroid['T3'], errors = 'coerce')\n",
    "t3_avg = thyroid['T3'].dropna().mean()\n",
    "t3_var = thyroid['T3'].dropna().var()\n",
    "print(\"T3 Average: \", t3_avg)\n",
    "print(\"T3 Variance: \", t3_var)\n",
    "\n",
    "thyroid['TT4'] = pd.to_numeric(thyroid['TT4'], errors = 'coerce')\n",
    "tt4_avg = thyroid['TT4'].dropna().mean()\n",
    "tt4_var = thyroid['TT4'].dropna().var()\n",
    "print(\"TT4 Average: \", tt4_avg)\n",
    "print(\"TT4 Variance: \", tt4_var)\n",
    "\n",
    "thyroid['T4U'] = pd.to_numeric(thyroid['T4U'], errors = 'coerce')\n",
    "t4u_avg = thyroid['T4U'].dropna().mean()\n",
    "t4u_var = thyroid['T4U'].dropna().var()\n",
    "print(\"T4U Average: \", t4u_avg)\n",
    "print(\"T4U Variance: \", t4u_var)\n",
    "\n",
    "thyroid['FTI'] = pd.to_numeric(thyroid['FTI'], errors = 'coerce')\n",
    "fti_avg = thyroid['FTI'].dropna().mean()\n",
    "fti_var = thyroid['FTI'].dropna().var()\n",
    "print(\"FTI Average: \", fti_avg)\n",
    "print(\"FTI Variance: \", fti_var)\n",
    "\n",
    "thyroid['TBG'] = pd.to_numeric(thyroid['TBG'], errors = 'coerce')\n",
    "tbg_avg = thyroid['TBG'].dropna().mean()\n",
    "tbg_var = thyroid['TBG'].dropna().var()\n",
    "print(\"TBG Average: \", tbg_avg)\n",
    "print(\"TBG Variance: \", tbg_var)\n"
   ]
  }
 ],
 "metadata": {
  "kernelspec": {
   "display_name": "Python 3 (ipykernel)",
   "language": "python",
   "name": "python3"
  },
  "language_info": {
   "codemirror_mode": {
    "name": "ipython",
    "version": 3
   },
   "file_extension": ".py",
   "mimetype": "text/x-python",
   "name": "python",
   "nbconvert_exporter": "python",
   "pygments_lexer": "ipython3",
   "version": "3.11.4"
  }
 },
 "nbformat": 4,
 "nbformat_minor": 5
}
